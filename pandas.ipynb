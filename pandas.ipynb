{
 "metadata": {
  "language_info": {
   "codemirror_mode": {
    "name": "ipython",
    "version": 3
   },
   "file_extension": ".py",
   "mimetype": "text/x-python",
   "name": "python",
   "nbconvert_exporter": "python",
   "pygments_lexer": "ipython3",
   "version": "3.6.9-final"
  },
  "orig_nbformat": 2,
  "kernelspec": {
   "name": "python36964bit1d8fee3fa6c54688bd746d92da81cd0e",
   "display_name": "Python 3.6.9 64-bit"
  }
 },
 "nbformat": 4,
 "nbformat_minor": 2,
 "cells": [
  {
   "cell_type": "code",
   "execution_count": 50,
   "metadata": {},
   "outputs": [],
   "source": [
    "import pandas as pd"
   ]
  },
  {
   "cell_type": "code",
   "execution_count": 51,
   "metadata": {
    "tags": []
   },
   "outputs": [
    {
     "output_type": "execute_result",
     "data": {
      "text/plain": "pandas.core.frame.DataFrame"
     },
     "metadata": {},
     "execution_count": 51
    }
   ],
   "source": [
    "# Doc file dang csv\n",
    "data = pd.read_csv('data1.csv')\n",
    "\n",
    "# Kieu du lieu \n",
    "type(data)"
   ]
  },
  {
   "cell_type": "code",
   "execution_count": 52,
   "metadata": {
    "tags": []
   },
   "outputs": [
    {
     "output_type": "error",
     "ename": "SyntaxError",
     "evalue": "invalid syntax (<ipython-input-52-3e168426d7b9>, line 6)",
     "traceback": [
      "\u001b[0;36m  File \u001b[0;32m\"<ipython-input-52-3e168426d7b9>\"\u001b[0;36m, line \u001b[0;32m6\u001b[0m\n\u001b[0;31m    print(data.columns)print(\"\\n\")\u001b[0m\n\u001b[0m                           ^\u001b[0m\n\u001b[0;31mSyntaxError\u001b[0m\u001b[0;31m:\u001b[0m invalid syntax\n"
     ]
    }
   ],
   "source": [
    "# Tra ve n dong dau tien\n",
    "print(data.head(3))\n",
    "print(\"\\n\")\n",
    "\n",
    "# Tra ve ten cot\n",
    "print(data.columns)print(\"\\n\")\n",
    " \n",
    "# Tra ve du lieu cot theo ten cot\n",
    "print(data['Framework'])\n",
    "print(\"\\n\")\n",
    "\n",
    "# Tra ve ket qua theo chi so bat dau va ket thuc\n",
    "print(data.iloc[2:5])\n",
    "print(\"\\n\")\n"
   ]
  },
  {
   "cell_type": "code",
   "execution_count": 45,
   "metadata": {
    "tags": []
   },
   "outputs": [
    {
     "output_type": "stream",
     "name": "stdout",
     "text": "0 PHP\n1 Javascript\n2 Javascript\n3 Javascript\n4 Python\n5 Java\n6 C#\n7 Python\n"
    }
   ],
   "source": [
    "# Lap qua tung dong bang ham iterrows()\n",
    "for index, row in data.iterrows():\n",
    "    print(index, row['Language'])\n"
   ]
  },
  {
   "cell_type": "code",
   "execution_count": 53,
   "metadata": {
    "tags": []
   },
   "outputs": [
    {
     "output_type": "stream",
     "name": "stdout",
     "text": "Example 1:\n   Framework    Language  Test1  Test2\n1    Angular  Javascript     12     42\n2      React  Javascript    321     15\n3  ExpressJS  Javascript      4      5\n\nExample 2:\n  Framework Language  Test1  Test2\n4    Django   Python      5      9\n\n\n   Framework    Language  Test1  Test2 New Column\n0    Laravel         PHP      2      0       data\n1    Angular  Javascript     12     42       data\n2      React  Javascript    321     15       data\n3  ExpressJS  Javascript      4      5       data\n4     Django      Python      5      9       data\n5     Spring        Java      6     11       data\n6       .Net          C#     87     24       data\n7      Flask      Python      2      3       data\n\n\n   Framework    Language  Test1  Test2\n0    Laravel         PHP      2      0\n1    Angular  Javascript     12     42\n2      React  Javascript    321     15\n3  ExpressJS  Javascript      4      5\n4     Django      Python      5      9\n5     Spring        Java      6     11\n6       .Net          C#     87     24\n7      Flask      Python      2      3\n\n\n"
    }
   ],
   "source": [
    "# Hien thi ket qua theo dieu kien\n",
    "print('Example 1:')\n",
    "print(data[data['Language'] == 'Javascript'])\n",
    "\n",
    "print('\\nExample 2:')\n",
    "print(data[(data['Language'] == 'Python') & (data['Framework'] == 'Django') ])\n",
    "print(\"\\n\")\n",
    "# Mo ta du lieu\n",
    "# Hien thi tan so, du lieu xuat hien nhieu nhat\n",
    "data.describe()\n",
    "\n",
    "# Sap xep du lieu theo cot, ascending=True la sap xep tang dan. False la giam dan\n",
    "data.sort_values(['Language'], ascending=True)\n",
    "data.sort_values(['Language'], ascending=False)\n",
    "\n",
    "# Them cot\n",
    "data['New Column'] = 'data'\n",
    "print(data)\n",
    "print(\"\\n\")\n",
    "\n",
    "# Xoa cot\n",
    "data = data.drop(columns=['New Column'])\n",
    "print(data)\n",
    "print(\"\\n\")"
   ]
  },
  {
   "cell_type": "code",
   "execution_count": 47,
   "metadata": {},
   "outputs": [
    {
     "output_type": "execute_result",
     "data": {
      "text/plain": "   Framework    Language  Test1  Test2  Total\n0    Laravel         PHP      2      0      2\n1    Angular  Javascript     12     42     54\n2      React  Javascript    321     15    336\n3  ExpressJS  Javascript      4      5      9\n4     Django      Python      5      9     14\n5     Spring        Java      6     11     17\n6       .Net          C#     87     24    111\n7      Flask      Python      2      3      5",
      "text/html": "<div>\n<style scoped>\n    .dataframe tbody tr th:only-of-type {\n        vertical-align: middle;\n    }\n\n    .dataframe tbody tr th {\n        vertical-align: top;\n    }\n\n    .dataframe thead th {\n        text-align: right;\n    }\n</style>\n<table border=\"1\" class=\"dataframe\">\n  <thead>\n    <tr style=\"text-align: right;\">\n      <th></th>\n      <th>Framework</th>\n      <th>Language</th>\n      <th>Test1</th>\n      <th>Test2</th>\n      <th>Total</th>\n    </tr>\n  </thead>\n  <tbody>\n    <tr>\n      <th>0</th>\n      <td>Laravel</td>\n      <td>PHP</td>\n      <td>2</td>\n      <td>0</td>\n      <td>2</td>\n    </tr>\n    <tr>\n      <th>1</th>\n      <td>Angular</td>\n      <td>Javascript</td>\n      <td>12</td>\n      <td>42</td>\n      <td>54</td>\n    </tr>\n    <tr>\n      <th>2</th>\n      <td>React</td>\n      <td>Javascript</td>\n      <td>321</td>\n      <td>15</td>\n      <td>336</td>\n    </tr>\n    <tr>\n      <th>3</th>\n      <td>ExpressJS</td>\n      <td>Javascript</td>\n      <td>4</td>\n      <td>5</td>\n      <td>9</td>\n    </tr>\n    <tr>\n      <th>4</th>\n      <td>Django</td>\n      <td>Python</td>\n      <td>5</td>\n      <td>9</td>\n      <td>14</td>\n    </tr>\n    <tr>\n      <th>5</th>\n      <td>Spring</td>\n      <td>Java</td>\n      <td>6</td>\n      <td>11</td>\n      <td>17</td>\n    </tr>\n    <tr>\n      <th>6</th>\n      <td>.Net</td>\n      <td>C#</td>\n      <td>87</td>\n      <td>24</td>\n      <td>111</td>\n    </tr>\n    <tr>\n      <th>7</th>\n      <td>Flask</td>\n      <td>Python</td>\n      <td>2</td>\n      <td>3</td>\n      <td>5</td>\n    </tr>\n  </tbody>\n</table>\n</div>"
     },
     "metadata": {},
     "execution_count": 47
    }
   ],
   "source": [
    "# Tinh tong nhieu cot. Axis = 1 tinh tong hang ngang. Axis = 0 tinh tong cot doc\n",
    "data['Total'] = data.iloc[:, -2:].sum(axis=1)\n",
    "data"
   ]
  },
  {
   "cell_type": "code",
   "execution_count": 48,
   "metadata": {},
   "outputs": [],
   "source": [
    "# Luu file moi\n",
    "dt = {\n",
    "    \"Height\": [170, 165, 156, 180, 178],\n",
    "    \"Weight\": [60, 61, 50, 75, 80]\n",
    "}\n",
    "\n",
    "# Chuan bi data frame, to_csv() yeu cai tham so DataFrame\n",
    "df = pd.DataFrame(dt)\n",
    "df\n",
    "df.to_csv('height-data.csv', index=False)"
   ]
  },
  {
   "cell_type": "code",
   "execution_count": null,
   "metadata": {},
   "outputs": [],
   "source": []
  }
 ]
}