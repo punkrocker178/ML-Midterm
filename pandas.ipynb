{
 "metadata": {
  "language_info": {
   "codemirror_mode": {
    "name": "ipython",
    "version": 3
   },
   "file_extension": ".py",
   "mimetype": "text/x-python",
   "name": "python",
   "nbconvert_exporter": "python",
   "pygments_lexer": "ipython3",
   "version": "3.6.9-final"
  },
  "orig_nbformat": 2,
  "kernelspec": {
   "name": "python36964bit1d8fee3fa6c54688bd746d92da81cd0e",
   "display_name": "Python 3.6.9 64-bit"
  }
 },
 "nbformat": 4,
 "nbformat_minor": 2,
 "cells": [
  {
   "cell_type": "code",
   "execution_count": 2,
   "metadata": {},
   "outputs": [],
   "source": [
    "import pandas as pd"
   ]
  },
  {
   "cell_type": "code",
   "execution_count": 3,
   "metadata": {
    "tags": []
   },
   "outputs": [
    {
     "output_type": "execute_result",
     "data": {
      "text/plain": [
       "pandas.core.frame.DataFrame"
      ]
     },
     "metadata": {},
     "execution_count": 3
    }
   ],
   "source": [
    "# Đọc file\n",
    "# Pandas có thể đọc các file dữ liệu dạng bảng như là csv, excel, ...\n",
    "data = pd.read_csv('data1.csv')\n",
    "\n",
    "# Kiểu dữ liệu\n",
    "# Dữ liệu bảng trong pandas gọi là DataFrame. Các cột/hàng trong DataFrame được gọi là Series\n",
    "type(data)"
   ]
  },
  {
   "cell_type": "code",
   "execution_count": 4,
   "metadata": {
    "tags": []
   },
   "outputs": [
    {
     "output_type": "stream",
     "name": "stdout",
     "text": [
      "  Framework    Language  Test1  Test2\n0   Laravel         PHP      2      0\n1   Angular  Javascript     12     42\n2     React  Javascript    321     15\n\n\nIndex(['Framework', 'Language', 'Test1', 'Test2'], dtype='object')\n\n\n0      Laravel\n1      Angular\n2        React\n3    ExpressJS\n4       Django\n5       Spring\n6         .Net\n7        Flask\nName: Framework, dtype: object\n\n\n   Framework    Language  Test1  Test2\n2      React  Javascript    321     15\n3  ExpressJS  Javascript      4      5\n4     Django      Python      5      9\n\n\n"
     ]
    }
   ],
   "source": [
    "# Trả về n dòng đầu tiên\n",
    "print(data.head(3))\n",
    "print(\"\\n\")\n",
    "\n",
    "# Trả về tên cột\n",
    "print(data.columns)\n",
    "print(\"\\n\")\n",
    " \n",
    "# Trả về dữ liệu cột theo tên cột\n",
    "print(data['Framework'])\n",
    "print(\"\\n\")\n",
    "\n",
    "# Trả về kết quả dòng theo chỉ số bắt đầu và kết thúc\n",
    "print(data.iloc[2:5])\n",
    "print(\"\\n\")\n"
   ]
  },
  {
   "cell_type": "code",
   "execution_count": 5,
   "metadata": {
    "tags": []
   },
   "outputs": [
    {
     "output_type": "stream",
     "name": "stdout",
     "text": [
      "0 PHP\n1 Javascript\n2 Javascript\n3 Javascript\n4 Python\n5 Java\n6 C#\n7 Python\n"
     ]
    }
   ],
   "source": [
    "# Lặp qua từng dòng bằng hàm iterows()\n",
    "for index, row in data.iterrows():\n",
    "    print(index, row['Language'])\n"
   ]
  },
  {
   "cell_type": "code",
   "execution_count": 6,
   "metadata": {
    "tags": []
   },
   "outputs": [
    {
     "output_type": "stream",
     "name": "stdout",
     "text": [
      "Example 1:\n   Framework    Language  Test1  Test2\n1    Angular  Javascript     12     42\n2      React  Javascript    321     15\n3  ExpressJS  Javascript      4      5\n\nExample 2:\n  Framework Language  Test1  Test2\n4    Django   Python      5      9\n\n\n   Framework    Language  Test1  Test2 New Column\n0    Laravel         PHP      2      0       data\n1    Angular  Javascript     12     42       data\n2      React  Javascript    321     15       data\n3  ExpressJS  Javascript      4      5       data\n4     Django      Python      5      9       data\n5     Spring        Java      6     11       data\n6       .Net          C#     87     24       data\n7      Flask      Python      2      3       data\n\n\n   Framework    Language  Test1  Test2\n0    Laravel         PHP      2      0\n1    Angular  Javascript     12     42\n2      React  Javascript    321     15\n3  ExpressJS  Javascript      4      5\n4     Django      Python      5      9\n5     Spring        Java      6     11\n6       .Net          C#     87     24\n7      Flask      Python      2      3\n\n\n"
     ]
    }
   ],
   "source": [
    "# Hiển thị kết quả theo điều kiện\n",
    "print('Example 1:')\n",
    "print(data[data['Language'] == 'Javascript'])\n",
    "\n",
    "print('\\nExample 2:')\n",
    "print(data[(data['Language'] == 'Python') & (data['Framework'] == 'Django') ])\n",
    "print(\"\\n\")\n",
    "\n",
    "# Mô tả dữ liệu\n",
    "# Hàm describe() mô tả mọi thông tin về DataFrame, tần số, số lần xuất hiện nhiều nhất\n",
    "data.describe()\n",
    "\n",
    "# Sắp xếp dữ liệu theo cột, ascending=True là sắp xếp tăng dần. False là giảm dần\n",
    "data.sort_values(['Language'], ascending=True)\n",
    "data.sort_values(['Language'], ascending=False)\n",
    "\n",
    "# Thêm cột\n",
    "data['New Column'] = 'data'\n",
    "print(data)\n",
    "print(\"\\n\")\n",
    "\n",
    "# Xóa cột\n",
    "data = data.drop(columns=['New Column'])\n",
    "print(data)\n",
    "print(\"\\n\")"
   ]
  },
  {
   "cell_type": "code",
   "execution_count": 7,
   "metadata": {},
   "outputs": [
    {
     "output_type": "execute_result",
     "data": {
      "text/plain": [
       "   Framework    Language  Test1  Test2  Total\n",
       "0    Laravel         PHP      2      0      2\n",
       "1    Angular  Javascript     12     42     54\n",
       "2      React  Javascript    321     15    336\n",
       "3  ExpressJS  Javascript      4      5      9\n",
       "4     Django      Python      5      9     14\n",
       "5     Spring        Java      6     11     17\n",
       "6       .Net          C#     87     24    111\n",
       "7      Flask      Python      2      3      5"
      ],
      "text/html": "<div>\n<style scoped>\n    .dataframe tbody tr th:only-of-type {\n        vertical-align: middle;\n    }\n\n    .dataframe tbody tr th {\n        vertical-align: top;\n    }\n\n    .dataframe thead th {\n        text-align: right;\n    }\n</style>\n<table border=\"1\" class=\"dataframe\">\n  <thead>\n    <tr style=\"text-align: right;\">\n      <th></th>\n      <th>Framework</th>\n      <th>Language</th>\n      <th>Test1</th>\n      <th>Test2</th>\n      <th>Total</th>\n    </tr>\n  </thead>\n  <tbody>\n    <tr>\n      <th>0</th>\n      <td>Laravel</td>\n      <td>PHP</td>\n      <td>2</td>\n      <td>0</td>\n      <td>2</td>\n    </tr>\n    <tr>\n      <th>1</th>\n      <td>Angular</td>\n      <td>Javascript</td>\n      <td>12</td>\n      <td>42</td>\n      <td>54</td>\n    </tr>\n    <tr>\n      <th>2</th>\n      <td>React</td>\n      <td>Javascript</td>\n      <td>321</td>\n      <td>15</td>\n      <td>336</td>\n    </tr>\n    <tr>\n      <th>3</th>\n      <td>ExpressJS</td>\n      <td>Javascript</td>\n      <td>4</td>\n      <td>5</td>\n      <td>9</td>\n    </tr>\n    <tr>\n      <th>4</th>\n      <td>Django</td>\n      <td>Python</td>\n      <td>5</td>\n      <td>9</td>\n      <td>14</td>\n    </tr>\n    <tr>\n      <th>5</th>\n      <td>Spring</td>\n      <td>Java</td>\n      <td>6</td>\n      <td>11</td>\n      <td>17</td>\n    </tr>\n    <tr>\n      <th>6</th>\n      <td>.Net</td>\n      <td>C#</td>\n      <td>87</td>\n      <td>24</td>\n      <td>111</td>\n    </tr>\n    <tr>\n      <th>7</th>\n      <td>Flask</td>\n      <td>Python</td>\n      <td>2</td>\n      <td>3</td>\n      <td>5</td>\n    </tr>\n  </tbody>\n</table>\n</div>"
     },
     "metadata": {},
     "execution_count": 7
    }
   ],
   "source": [
    "# Tính tổng nhiều cột. Axis = 1 là tính tổng hàng ngang.\n",
    "# Axis = 0 là tính tổng theo cột dọc.\n",
    "data['Total'] = data.iloc[:, -2:].sum(axis=1)\n",
    "data"
   ]
  },
  {
   "cell_type": "code",
   "execution_count": 8,
   "metadata": {},
   "outputs": [],
   "source": [
    "# Lưu file mới.\n",
    "# Nếu file đã tồn tại, thì pandas sẽ lưu đè lên file đó\n",
    "dt = {\n",
    "    \"Height\": [170, 165, 156, 180, 178],\n",
    "    \"Weight\": [60, 61, 50, 75, 80]\n",
    "}\n",
    "\n",
    "# Hàm to_csv() cần đầu vào là DataFrame\n",
    "df = pd.DataFrame(dt)\n",
    "df\n",
    "df.to_csv('height-data.csv', index=False)"
   ]
  },
  {
   "cell_type": "code",
   "execution_count": null,
   "metadata": {},
   "outputs": [],
   "source": []
  }
 ]
}