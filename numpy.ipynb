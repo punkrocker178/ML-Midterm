{
 "metadata": {
  "language_info": {
   "codemirror_mode": {
    "name": "ipython",
    "version": 3
   },
   "file_extension": ".py",
   "mimetype": "text/x-python",
   "name": "python",
   "nbconvert_exporter": "python",
   "pygments_lexer": "ipython3",
   "version": "3.6.9-final"
  },
  "orig_nbformat": 2,
  "kernelspec": {
   "name": "python36964bit1d8fee3fa6c54688bd746d92da81cd0e",
   "display_name": "Python 3.6.9 64-bit"
  }
 },
 "nbformat": 4,
 "nbformat_minor": 2,
 "cells": [
  {
   "cell_type": "code",
   "execution_count": 2,
   "metadata": {},
   "outputs": [],
   "source": [
    "import numpy as np"
   ]
  },
  {
   "cell_type": "code",
   "execution_count": 9,
   "metadata": {},
   "outputs": [
    {
     "output_type": "stream",
     "name": "stdout",
     "text": [
      "[0 2 4 6 8]\n"
     ]
    }
   ],
   "source": [
    "array = np.array([0,2,4,6,8])\n",
    "print(array)"
   ]
  },
  {
   "cell_type": "code",
   "execution_count": 18,
   "metadata": {},
   "outputs": [
    {
     "output_type": "stream",
     "name": "stdout",
     "text": [
      "dimension: 1\nbytes: 8\nshape: (5,)\ntype: int64\nNumber of elements: 5\n"
     ]
    }
   ],
   "source": [
    "# Chiều của mảng\n",
    "print('dimension:', array.ndim)\n",
    "\n",
    "# Kích thước bytes của mảng\n",
    "print('bytes:',array.itemsize)\n",
    "\n",
    "# Kích thước dòng cột\n",
    "print('shape:', array.shape)\n",
    "\n",
    "# Kiểu dữ liệu\n",
    "print('type:', array.dtype)\n",
    "\n",
    "# Tổng phần tử trong mảng\n",
    "print('Number of elements:', array.size)"
   ]
  },
  {
   "cell_type": "code",
   "execution_count": 14,
   "metadata": {},
   "outputs": [
    {
     "output_type": "stream",
     "name": "stdout",
     "text": [
      "[[ 1  2  3  4  5  6  7  8]\n [ 9 10 11 12 13 14 15 16]]\n"
     ]
    }
   ],
   "source": [
    "# Khởi tạo mạng với giá trị cho trước\n",
    "# np.array([mảng 1 chiều, ...])\n",
    "array2 = np.array(\n",
    "    [\n",
    "        [1,2,3,4,5,6,7,8],\n",
    "        [9,10,11,12,13,14,15,16]\n",
    "    ]\n",
    ")\n",
    "\n",
    "print(array2)"
   ]
  },
  {
   "cell_type": "code",
   "execution_count": 24,
   "metadata": {},
   "outputs": [
    {
     "output_type": "stream",
     "name": "stdout",
     "text": [
      "Index at row 0 column 2: 3\nIndex at row 1 column 4: 99\n[1 2 3 4 5 6 7 8]\n[ 4 12]\n[[ 1  2  3  4  5  6]\n [ 9 10 11 12 99 14]]\n[[ 7  8]\n [15 16]]\n[[  1   2   3   4   5   6   7   8]\n [  9  10  11  12 999  14  15  16]]\n[[  1   2   3 777   5   6   7   8]\n [  9  10  11 777 999  14  15  16]]\n"
     ]
    }
   ],
   "source": [
    "# Truy giá trị phần tử bằng chỉ số\n",
    "print('Index at row 0 column 2:', array2[0,2])\n",
    "print('Index at row 1 column 4:', array2[1,4])\n",
    "\n",
    "# Lấy dòng\n",
    "print(array2[0, :])\n",
    "\n",
    "# Lấy cột\n",
    "print(array2[:, 3])\n",
    "\n",
    "# Lấy hết bỏ 2 cột cuối\n",
    "print(array2[:, :-2])\n",
    "\n",
    "# Chỉ lấy 2 cột cuối\n",
    "print(array2[:, -2:])\n",
    "\n",
    "# Sửa giá trị\n",
    "array2[1,4] = 999\n",
    "print(array2)\n",
    "\n",
    "# Sửa giá trị ở tất cả dòng theo cột\n",
    "array2[:, 3] = 777\n",
    "print(array2)\n"
   ]
  },
  {
   "cell_type": "code",
   "execution_count": 30,
   "metadata": {},
   "outputs": [
    {
     "output_type": "stream",
     "name": "stdout",
     "text": [
      "[[0. 0. 0. 0.]\n [0. 0. 0. 0.]\n [0. 0. 0. 0.]\n [0. 0. 0. 0.]]\n[[1. 1. 1.]\n [1. 1. 1.]\n [1. 1. 1.]]\n[[22 22 22 22 22]\n [22 22 22 22 22]\n [22 22 22 22 22]\n [22 22 22 22 22]\n [22 22 22 22 22]]\n[[0.42062488 0.34401577]\n [0.31165647 0.3883334 ]\n [0.57607734 0.58938629]\n [0.67296372 0.67472686]]\n[[7 5 3]\n [8 1 7]\n [6 6 7]]\n[[1. 0. 0.]\n [0. 1. 0.]\n [0. 0. 1.]]\n[[1 2 3]\n [1 2 3]\n [1 2 3]]\n[[1 1 1 2 2 2 3 3 3]]\n"
     ]
    }
   ],
   "source": [
    "# Khởi tạo mảng với giá trị 0 theo shapearr\n",
    "# np.zeros(shape)\n",
    "zeros = np.zeros((4,4))\n",
    "print(zeros)\n",
    "\n",
    "# np.ones(shape)\n",
    "ones = np.ones((3,3))\n",
    "print(ones)\n",
    "\n",
    "# np.full(shape, value)\n",
    "full = np.full((5,5), 22)\n",
    "print(full)\n",
    "\n",
    "# Khởi tạo mảng random\n",
    "randoms = np.random.rand(4,2)\n",
    "print(randoms)\n",
    "\n",
    "# Khởi tạo mạng random số nguyên\n",
    "randoms_int = np.random.randint(1, 9, size=(3,3))\n",
    "print(randoms_int)\n",
    "\n",
    "# Khởi tạo ma trận identity\n",
    "identity = np.identity(3)\n",
    "print(identity)\n",
    "\n",
    "# Lặp lại kết quả theo số lần\n",
    "# axis = 0 lặp kết quả dạng cột\n",
    "# axis = 1 lặp kết quả dạng hàng\n",
    "arr = np.array([[1,2,3]])\n",
    "result = np.repeat(arr,3, axis=0)\n",
    "result2 = np.repeat(arr,3, axis=1)\n",
    "print(result)\n",
    "print(result2)"
   ]
  },
  {
   "cell_type": "code",
   "execution_count": 31,
   "metadata": {},
   "outputs": [
    {
     "output_type": "stream",
     "name": "stdout",
     "text": [
      "[[1 2 3]]\n"
     ]
    }
   ],
   "source": [
    "# # Sử dụng hàm copy để tránh việc bị đè giá trị gốc\n",
    "# VD: gán arr2 = arr\n",
    "# Khi thay đổi giá trị trong arr2 thì arr sẽ bị thay đổi theo\n",
    "arr2 = arr.copy()\n",
    "print(arr2)"
   ]
  },
  {
   "cell_type": "code",
   "execution_count": 36,
   "metadata": {},
   "outputs": [
    {
     "output_type": "stream",
     "name": "stdout",
     "text": [
      "[3 4 5 6]\n[0 1 2 3]\n[2 4 6 8]\n[0.5 1.  1.5 2. ]\n[ 1  4  9 16]\n[2 4 6 8]\n[ 0.84147098  0.90929743  0.14112001 -0.7568025 ]\n[ 0.54030231 -0.41614684 -0.9899925  -0.65364362]\n10\n24\n"
     ]
    }
   ],
   "source": [
    "# Các phép toán cơ bản\n",
    "# Numpy hỗ trợ các phép toán vào các phần tử trong mảng hoặc thực hiện các toán tử với các mảng khác\n",
    "# Tham khảo thêm\n",
    "\n",
    "arr = np.array([1,2,3,4])\n",
    "print(arr + 2)\n",
    "print(arr - 1)\n",
    "print(arr * 2)\n",
    "print(arr / 2)\n",
    "print(arr ** 2)\n",
    "print(arr + arr)\n",
    "\n",
    "# Tính sin\n",
    "print(np.sin(arr))\n",
    "# Tín cos\n",
    "print(np.cos(arr))\n",
    "# Tổng giá trị các phần tử\n",
    "print(np.sum(arr))\n",
    "# Tích giá trị các phần tử\n",
    "print(np.prod(arr))"
   ]
  },
  {
   "cell_type": "code",
   "execution_count": 37,
   "metadata": {},
   "outputs": [
    {
     "output_type": "stream",
     "name": "stdout",
     "text": [
      "0\n8\n"
     ]
    }
   ],
   "source": [
    "# Min & max\n",
    "arr = [0,2,4,6,8]\n",
    "print(np.min(arr))\n",
    "print(np.max(arr))"
   ]
  },
  {
   "cell_type": "code",
   "execution_count": null,
   "metadata": {},
   "outputs": [],
   "source": []
  }
 ]
}